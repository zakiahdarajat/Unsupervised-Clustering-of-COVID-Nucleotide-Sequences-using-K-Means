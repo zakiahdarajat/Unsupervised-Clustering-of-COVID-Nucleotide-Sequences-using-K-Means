{
 "cells": [
  {
   "cell_type": "code",
   "execution_count": 1,
   "id": "984bc900",
   "metadata": {},
   "outputs": [],
   "source": [
    "import numpy as np \n",
    "import pandas as pd \n",
    "import matplotlib.pyplot as plt\n",
    "import seaborn as sns"
   ]
  },
  {
   "cell_type": "code",
   "execution_count": 2,
   "id": "4aceb4da",
   "metadata": {},
   "outputs": [],
   "source": [
    "path = \"/Users/adityavs14/Documents/Internship/Pianalytix/Month_2/viruskmeans/ML_model/data/\""
   ]
  },
  {
   "cell_type": "code",
   "execution_count": 3,
   "id": "1d76eb9c",
   "metadata": {},
   "outputs": [],
   "source": [
    "data = pd.read_csv(path+'MN997409.1-4NY0T82X016-Alignment-HitTable.csv')"
   ]
  },
  {
   "cell_type": "code",
   "execution_count": 4,
   "id": "3325b969",
   "metadata": {},
   "outputs": [
    {
     "data": {
      "text/html": [
       "<div>\n",
       "<style scoped>\n",
       "    .dataframe tbody tr th:only-of-type {\n",
       "        vertical-align: middle;\n",
       "    }\n",
       "\n",
       "    .dataframe tbody tr th {\n",
       "        vertical-align: top;\n",
       "    }\n",
       "\n",
       "    .dataframe thead th {\n",
       "        text-align: right;\n",
       "    }\n",
       "</style>\n",
       "<table border=\"1\" class=\"dataframe\">\n",
       "  <thead>\n",
       "    <tr style=\"text-align: right;\">\n",
       "      <th></th>\n",
       "      <th>MN997409.1</th>\n",
       "      <th>MN997409.1.1</th>\n",
       "      <th>100.000</th>\n",
       "      <th>29882</th>\n",
       "      <th>0</th>\n",
       "      <th>0.1</th>\n",
       "      <th>1</th>\n",
       "      <th>29882.1</th>\n",
       "      <th>1.1</th>\n",
       "      <th>29882.2</th>\n",
       "      <th>0.0</th>\n",
       "      <th>55182</th>\n",
       "    </tr>\n",
       "  </thead>\n",
       "  <tbody>\n",
       "    <tr>\n",
       "      <th>0</th>\n",
       "      <td>MN997409.1</td>\n",
       "      <td>MT020881.1</td>\n",
       "      <td>99.990</td>\n",
       "      <td>29882</td>\n",
       "      <td>3</td>\n",
       "      <td>0</td>\n",
       "      <td>1</td>\n",
       "      <td>29882</td>\n",
       "      <td>1</td>\n",
       "      <td>29882</td>\n",
       "      <td>0.0</td>\n",
       "      <td>55166</td>\n",
       "    </tr>\n",
       "    <tr>\n",
       "      <th>1</th>\n",
       "      <td>MN997409.1</td>\n",
       "      <td>MT020880.1</td>\n",
       "      <td>99.990</td>\n",
       "      <td>29882</td>\n",
       "      <td>3</td>\n",
       "      <td>0</td>\n",
       "      <td>1</td>\n",
       "      <td>29882</td>\n",
       "      <td>1</td>\n",
       "      <td>29882</td>\n",
       "      <td>0.0</td>\n",
       "      <td>55166</td>\n",
       "    </tr>\n",
       "    <tr>\n",
       "      <th>2</th>\n",
       "      <td>MN997409.1</td>\n",
       "      <td>MN985325.1</td>\n",
       "      <td>99.990</td>\n",
       "      <td>29882</td>\n",
       "      <td>3</td>\n",
       "      <td>0</td>\n",
       "      <td>1</td>\n",
       "      <td>29882</td>\n",
       "      <td>1</td>\n",
       "      <td>29882</td>\n",
       "      <td>0.0</td>\n",
       "      <td>55166</td>\n",
       "    </tr>\n",
       "    <tr>\n",
       "      <th>3</th>\n",
       "      <td>MN997409.1</td>\n",
       "      <td>MN975262.1</td>\n",
       "      <td>99.990</td>\n",
       "      <td>29882</td>\n",
       "      <td>3</td>\n",
       "      <td>0</td>\n",
       "      <td>1</td>\n",
       "      <td>29882</td>\n",
       "      <td>1</td>\n",
       "      <td>29882</td>\n",
       "      <td>0.0</td>\n",
       "      <td>55166</td>\n",
       "    </tr>\n",
       "    <tr>\n",
       "      <th>4</th>\n",
       "      <td>MN997409.1</td>\n",
       "      <td>LC522974.1</td>\n",
       "      <td>99.993</td>\n",
       "      <td>29878</td>\n",
       "      <td>2</td>\n",
       "      <td>0</td>\n",
       "      <td>4</td>\n",
       "      <td>29881</td>\n",
       "      <td>1</td>\n",
       "      <td>29878</td>\n",
       "      <td>0.0</td>\n",
       "      <td>55164</td>\n",
       "    </tr>\n",
       "  </tbody>\n",
       "</table>\n",
       "</div>"
      ],
      "text/plain": [
       "   MN997409.1 MN997409.1.1  100.000  29882  0  0.1  1  29882.1  1.1  29882.2   \n",
       "0  MN997409.1   MT020881.1   99.990  29882  3    0  1    29882    1    29882  \\\n",
       "1  MN997409.1   MT020880.1   99.990  29882  3    0  1    29882    1    29882   \n",
       "2  MN997409.1   MN985325.1   99.990  29882  3    0  1    29882    1    29882   \n",
       "3  MN997409.1   MN975262.1   99.990  29882  3    0  1    29882    1    29882   \n",
       "4  MN997409.1   LC522974.1   99.993  29878  2    0  4    29881    1    29878   \n",
       "\n",
       "   0.0  55182  \n",
       "0  0.0  55166  \n",
       "1  0.0  55166  \n",
       "2  0.0  55166  \n",
       "3  0.0  55166  \n",
       "4  0.0  55164  "
      ]
     },
     "execution_count": 4,
     "metadata": {},
     "output_type": "execute_result"
    }
   ],
   "source": [
    "data.head()"
   ]
  },
  {
   "cell_type": "code",
   "execution_count": 7,
   "id": "447ac72c",
   "metadata": {},
   "outputs": [],
   "source": [
    "app = list(data.columns)"
   ]
  },
  {
   "cell_type": "code",
   "execution_count": 8,
   "id": "375c160c",
   "metadata": {},
   "outputs": [
    {
     "name": "stdout",
     "output_type": "stream",
     "text": [
      "['MN997409.1', 'MN997409.1.1', '100.000', '29882', '0', '0.1', '1', '29882.1', '1.1', '29882.2', '0.0', '55182']\n"
     ]
    }
   ],
   "source": [
    "print(app)"
   ]
  },
  {
   "cell_type": "code",
   "execution_count": 9,
   "id": "82213421",
   "metadata": {},
   "outputs": [],
   "source": [
    "data = data.rename(columns={\"MN997409.1\": \"query acc.ver\", \"MN997409.1.1\": \"subject acc.ver\",\n",
    "                            \"100.000\":\"% identity\",\"29882\":\"alignment length\",\"0\":\"mismatches\",\n",
    "                            \"0.1\":\"gap opens\",\"1\":\"q. start\",\"29882.1\":\"q. end\",\"1.1\":\"s. start\",\n",
    "                           \"29882.2\t\":\"s. end\",\"0.0\":\"evalue\",\"55182\":\"bit score\"})"
   ]
  },
  {
   "cell_type": "code",
   "execution_count": 10,
   "id": "4d4b27eb",
   "metadata": {},
   "outputs": [],
   "source": [
    "data.loc[len(data)] = app"
   ]
  },
  {
   "cell_type": "code",
   "execution_count": 11,
   "id": "5db91d5c",
   "metadata": {
    "scrolled": true
   },
   "outputs": [
    {
     "data": {
      "text/html": [
       "<div>\n",
       "<style scoped>\n",
       "    .dataframe tbody tr th:only-of-type {\n",
       "        vertical-align: middle;\n",
       "    }\n",
       "\n",
       "    .dataframe tbody tr th {\n",
       "        vertical-align: top;\n",
       "    }\n",
       "\n",
       "    .dataframe thead th {\n",
       "        text-align: right;\n",
       "    }\n",
       "</style>\n",
       "<table border=\"1\" class=\"dataframe\">\n",
       "  <thead>\n",
       "    <tr style=\"text-align: right;\">\n",
       "      <th></th>\n",
       "      <th>query acc.ver</th>\n",
       "      <th>subject acc.ver</th>\n",
       "      <th>% identity</th>\n",
       "      <th>alignment length</th>\n",
       "      <th>mismatches</th>\n",
       "      <th>gap opens</th>\n",
       "      <th>q. start</th>\n",
       "      <th>q. end</th>\n",
       "      <th>s. start</th>\n",
       "      <th>29882.2</th>\n",
       "      <th>evalue</th>\n",
       "      <th>bit score</th>\n",
       "    </tr>\n",
       "  </thead>\n",
       "  <tbody>\n",
       "    <tr>\n",
       "      <th>258</th>\n",
       "      <td>MN997409.1</td>\n",
       "      <td>AY282752.2</td>\n",
       "      <td>82.304</td>\n",
       "      <td>17716</td>\n",
       "      <td>2948</td>\n",
       "      <td>169</td>\n",
       "      <td>3956</td>\n",
       "      <td>21577</td>\n",
       "      <td>3868</td>\n",
       "      <td>21490</td>\n",
       "      <td>0.0</td>\n",
       "      <td>15175</td>\n",
       "    </tr>\n",
       "    <tr>\n",
       "      <th>259</th>\n",
       "      <td>MN997409.1</td>\n",
       "      <td>AY282752.2</td>\n",
       "      <td>80.063</td>\n",
       "      <td>5417</td>\n",
       "      <td>988</td>\n",
       "      <td>68</td>\n",
       "      <td>22539</td>\n",
       "      <td>27910</td>\n",
       "      <td>22414</td>\n",
       "      <td>27783</td>\n",
       "      <td>0.0</td>\n",
       "      <td>3936</td>\n",
       "    </tr>\n",
       "    <tr>\n",
       "      <th>260</th>\n",
       "      <td>MN997409.1</td>\n",
       "      <td>AY282752.2</td>\n",
       "      <td>90.189</td>\n",
       "      <td>1641</td>\n",
       "      <td>142</td>\n",
       "      <td>12</td>\n",
       "      <td>28257</td>\n",
       "      <td>29882</td>\n",
       "      <td>28088</td>\n",
       "      <td>29724</td>\n",
       "      <td>0.0</td>\n",
       "      <td>2121</td>\n",
       "    </tr>\n",
       "    <tr>\n",
       "      <th>261</th>\n",
       "      <td>MN997409.1</td>\n",
       "      <td>AY282752.2</td>\n",
       "      <td>79.305</td>\n",
       "      <td>1928</td>\n",
       "      <td>358</td>\n",
       "      <td>35</td>\n",
       "      <td>16</td>\n",
       "      <td>1923</td>\n",
       "      <td>1</td>\n",
       "      <td>1907</td>\n",
       "      <td>0.0</td>\n",
       "      <td>1312</td>\n",
       "    </tr>\n",
       "    <tr>\n",
       "      <th>262</th>\n",
       "      <td>MN997409.1</td>\n",
       "      <td>MN997409.1.1</td>\n",
       "      <td>100.000</td>\n",
       "      <td>29882</td>\n",
       "      <td>0</td>\n",
       "      <td>0.1</td>\n",
       "      <td>1</td>\n",
       "      <td>29882.1</td>\n",
       "      <td>1.1</td>\n",
       "      <td>29882.2</td>\n",
       "      <td>0.0</td>\n",
       "      <td>55182</td>\n",
       "    </tr>\n",
       "  </tbody>\n",
       "</table>\n",
       "</div>"
      ],
      "text/plain": [
       "    query acc.ver subject acc.ver % identity alignment length mismatches   \n",
       "258    MN997409.1      AY282752.2     82.304            17716       2948  \\\n",
       "259    MN997409.1      AY282752.2     80.063             5417        988   \n",
       "260    MN997409.1      AY282752.2     90.189             1641        142   \n",
       "261    MN997409.1      AY282752.2     79.305             1928        358   \n",
       "262    MN997409.1    MN997409.1.1    100.000            29882          0   \n",
       "\n",
       "    gap opens q. start   q. end s. start  29882.2 evalue bit score  \n",
       "258       169     3956    21577     3868    21490    0.0     15175  \n",
       "259        68    22539    27910    22414    27783    0.0      3936  \n",
       "260        12    28257    29882    28088    29724    0.0      2121  \n",
       "261        35       16     1923        1     1907    0.0      1312  \n",
       "262       0.1        1  29882.1      1.1  29882.2    0.0     55182  "
      ]
     },
     "execution_count": 11,
     "metadata": {},
     "output_type": "execute_result"
    }
   ],
   "source": [
    "data.tail()"
   ]
  },
  {
   "cell_type": "code",
   "execution_count": 12,
   "id": "21363fdf",
   "metadata": {},
   "outputs": [
    {
     "data": {
      "text/plain": [
       "(263, 12)"
      ]
     },
     "execution_count": 12,
     "metadata": {},
     "output_type": "execute_result"
    }
   ],
   "source": [
    "data.shape"
   ]
  },
  {
   "cell_type": "code",
   "execution_count": 13,
   "id": "86294b0e",
   "metadata": {},
   "outputs": [],
   "source": [
    "from sklearn.cluster import KMeans"
   ]
  },
  {
   "cell_type": "code",
   "execution_count": 14,
   "id": "0ccf6906",
   "metadata": {},
   "outputs": [],
   "source": [
    "data['subject acc.ver'] = data['subject acc.ver'].astype(\"category\").cat.codes"
   ]
  },
  {
   "cell_type": "code",
   "execution_count": 15,
   "id": "97f187f4",
   "metadata": {},
   "outputs": [
    {
     "data": {
      "text/html": [
       "<div>\n",
       "<style scoped>\n",
       "    .dataframe tbody tr th:only-of-type {\n",
       "        vertical-align: middle;\n",
       "    }\n",
       "\n",
       "    .dataframe tbody tr th {\n",
       "        vertical-align: top;\n",
       "    }\n",
       "\n",
       "    .dataframe thead th {\n",
       "        text-align: right;\n",
       "    }\n",
       "</style>\n",
       "<table border=\"1\" class=\"dataframe\">\n",
       "  <thead>\n",
       "    <tr style=\"text-align: right;\">\n",
       "      <th></th>\n",
       "      <th>query acc.ver</th>\n",
       "      <th>subject acc.ver</th>\n",
       "      <th>% identity</th>\n",
       "      <th>alignment length</th>\n",
       "      <th>mismatches</th>\n",
       "      <th>gap opens</th>\n",
       "      <th>q. start</th>\n",
       "      <th>q. end</th>\n",
       "      <th>s. start</th>\n",
       "      <th>29882.2</th>\n",
       "      <th>evalue</th>\n",
       "      <th>bit score</th>\n",
       "    </tr>\n",
       "  </thead>\n",
       "  <tbody>\n",
       "    <tr>\n",
       "      <th>0</th>\n",
       "      <td>MN997409.1</td>\n",
       "      <td>86</td>\n",
       "      <td>99.99</td>\n",
       "      <td>29882</td>\n",
       "      <td>3</td>\n",
       "      <td>0</td>\n",
       "      <td>1</td>\n",
       "      <td>29882</td>\n",
       "      <td>1</td>\n",
       "      <td>29882</td>\n",
       "      <td>0.0</td>\n",
       "      <td>55166</td>\n",
       "    </tr>\n",
       "    <tr>\n",
       "      <th>1</th>\n",
       "      <td>MN997409.1</td>\n",
       "      <td>85</td>\n",
       "      <td>99.99</td>\n",
       "      <td>29882</td>\n",
       "      <td>3</td>\n",
       "      <td>0</td>\n",
       "      <td>1</td>\n",
       "      <td>29882</td>\n",
       "      <td>1</td>\n",
       "      <td>29882</td>\n",
       "      <td>0.0</td>\n",
       "      <td>55166</td>\n",
       "    </tr>\n",
       "    <tr>\n",
       "      <th>2</th>\n",
       "      <td>MN997409.1</td>\n",
       "      <td>66</td>\n",
       "      <td>99.99</td>\n",
       "      <td>29882</td>\n",
       "      <td>3</td>\n",
       "      <td>0</td>\n",
       "      <td>1</td>\n",
       "      <td>29882</td>\n",
       "      <td>1</td>\n",
       "      <td>29882</td>\n",
       "      <td>0.0</td>\n",
       "      <td>55166</td>\n",
       "    </tr>\n",
       "    <tr>\n",
       "      <th>3</th>\n",
       "      <td>MN997409.1</td>\n",
       "      <td>65</td>\n",
       "      <td>99.99</td>\n",
       "      <td>29882</td>\n",
       "      <td>3</td>\n",
       "      <td>0</td>\n",
       "      <td>1</td>\n",
       "      <td>29882</td>\n",
       "      <td>1</td>\n",
       "      <td>29882</td>\n",
       "      <td>0.0</td>\n",
       "      <td>55166</td>\n",
       "    </tr>\n",
       "    <tr>\n",
       "      <th>4</th>\n",
       "      <td>MN997409.1</td>\n",
       "      <td>55</td>\n",
       "      <td>99.993</td>\n",
       "      <td>29878</td>\n",
       "      <td>2</td>\n",
       "      <td>0</td>\n",
       "      <td>4</td>\n",
       "      <td>29881</td>\n",
       "      <td>1</td>\n",
       "      <td>29878</td>\n",
       "      <td>0.0</td>\n",
       "      <td>55164</td>\n",
       "    </tr>\n",
       "  </tbody>\n",
       "</table>\n",
       "</div>"
      ],
      "text/plain": [
       "  query acc.ver  subject acc.ver % identity alignment length mismatches   \n",
       "0    MN997409.1               86      99.99            29882          3  \\\n",
       "1    MN997409.1               85      99.99            29882          3   \n",
       "2    MN997409.1               66      99.99            29882          3   \n",
       "3    MN997409.1               65      99.99            29882          3   \n",
       "4    MN997409.1               55     99.993            29878          2   \n",
       "\n",
       "  gap opens q. start q. end s. start 29882.2 evalue bit score  \n",
       "0         0        1  29882        1   29882    0.0     55166  \n",
       "1         0        1  29882        1   29882    0.0     55166  \n",
       "2         0        1  29882        1   29882    0.0     55166  \n",
       "3         0        1  29882        1   29882    0.0     55166  \n",
       "4         0        4  29881        1   29878    0.0     55164  "
      ]
     },
     "execution_count": 15,
     "metadata": {},
     "output_type": "execute_result"
    }
   ],
   "source": [
    "data.head()"
   ]
  },
  {
   "cell_type": "code",
   "execution_count": 16,
   "id": "056989d4",
   "metadata": {},
   "outputs": [],
   "source": [
    "X = data.iloc[:,1:].values"
   ]
  },
  {
   "cell_type": "code",
   "execution_count": 17,
   "id": "6d60c667",
   "metadata": {},
   "outputs": [
    {
     "data": {
      "text/plain": [
       "(263, 2)"
      ]
     },
     "execution_count": 17,
     "metadata": {},
     "output_type": "execute_result"
    }
   ],
   "source": [
    "from sklearn.decomposition import PCA\n",
    "\n",
    "pca = PCA(n_components=0.95, random_state=40)\n",
    "X_reduced= pca.fit_transform(X)\n",
    "X_reduced.shape"
   ]
  },
  {
   "cell_type": "code",
   "execution_count": 18,
   "id": "794bad62",
   "metadata": {},
   "outputs": [],
   "source": [
    "from sklearn.cluster import MiniBatchKMeans\n",
    "from sklearn.cluster import KMeans"
   ]
  },
  {
   "cell_type": "code",
   "execution_count": 19,
   "id": "a42a2f18",
   "metadata": {},
   "outputs": [
    {
     "name": "stderr",
     "output_type": "stream",
     "text": [
      "100%|██████████████████████████████████████████| 18/18 [00:00<00:00, 103.77it/s]\n"
     ]
    }
   ],
   "source": [
    "from sklearn import metrics\n",
    "from scipy.spatial.distance import cdist\n",
    "from tqdm import tqdm\n",
    "\n",
    "# run kmeans with many different k\n",
    "distortions = []\n",
    "K = range(2, 20)\n",
    "for k in tqdm(K):\n",
    "    k_means = KMeans(n_clusters=k, random_state=42)\n",
    "    k_means.fit(X_reduced)\n",
    "    distortions.append(sum(np.min(cdist(X_reduced, k_means.cluster_centers_, 'euclidean'), axis=1)) / X.shape[0])\n",
    "    #print('Found distortion for {} clusters'.format(k))"
   ]
  },
  {
   "cell_type": "code",
   "execution_count": 20,
   "id": "1e9313d7",
   "metadata": {},
   "outputs": [
    {
     "data": {
      "image/png": "[encoded data removed]",
      "text/plain": [
       "<Figure size 640x480 with 1 Axes>"
      ]
     },
     "metadata": {},
     "output_type": "display_data"
    }
   ],
   "source": [
    "X_line = [K[0], K[-1]]\n",
    "Y_line = [distortions[0], distortions[-1]]\n",
    "\n",
    "# Plot the elbow\n",
    "plt.plot(K, distortions, 'b-')\n",
    "plt.plot(X_line, Y_line, 'r')\n",
    "plt.xlabel('k')\n",
    "plt.ylabel('Distortion')\n",
    "plt.title('The Elbow Method showing the optimal k')\n",
    "plt.show()"
   ]
  },
  {
   "cell_type": "code",
   "execution_count": 21,
   "id": "4b377b90",
   "metadata": {},
   "outputs": [],
   "source": [
    "k = 5\n",
    "kmeans = KMeans(n_clusters=k, random_state=40)\n",
    "y_pred = kmeans.fit_predict(X_reduced)\n",
    "data['y'] = y_pred"
   ]
  },
  {
   "cell_type": "code",
   "execution_count": 22,
   "id": "0b6de41c",
   "metadata": {},
   "outputs": [
    {
     "name": "stderr",
     "output_type": "stream",
     "text": [
      "/opt/homebrew/Caskroom/miniforge/base/envs/tensorflow/lib/python3.9/site-packages/sklearn/manifold/_t_sne.py:790: FutureWarning: The default learning rate in TSNE will change from 200.0 to 'auto' in 1.2.\n",
      "  warnings.warn(\n",
      "/opt/homebrew/Caskroom/miniforge/base/envs/tensorflow/lib/python3.9/site-packages/sklearn/manifold/_t_sne.py:982: FutureWarning: The PCA initialization in TSNE will change to have the standard deviation of PC1 equal to 1e-4 in 1.2. This will ensure better convergence.\n",
      "  warnings.warn(\n"
     ]
    },
    {
     "name": "stdout",
     "output_type": "stream",
     "text": [
      "[t-SNE] Computing 262 nearest neighbors...\n",
      "[t-SNE] Indexed 263 samples in 0.000s...\n",
      "[t-SNE] Computed neighbors for 263 samples in 0.037s...\n",
      "[t-SNE] Computed conditional probabilities for sample 263 / 263\n",
      "[t-SNE] Mean sigma: 39855.333995\n",
      "[t-SNE] KL divergence after 250 iterations with early exaggeration: 159.207397\n",
      "[t-SNE] KL divergence after 1000 iterations: 3.237453\n"
     ]
    }
   ],
   "source": [
    "from sklearn.manifold import TSNE\n",
    "\n",
    "tsne = TSNE(verbose=1,init='pca', perplexity=200)\n",
    "X_embedded = tsne.fit_transform(X)"
   ]
  },
  {
   "cell_type": "code",
   "execution_count": 23,
   "id": "b2383936",
   "metadata": {},
   "outputs": [
    {
     "name": "stderr",
     "output_type": "stream",
     "text": [
      "/opt/homebrew/Caskroom/miniforge/base/envs/tensorflow/lib/python3.9/site-packages/seaborn/_decorators.py:36: FutureWarning: Pass the following variables as keyword args: x, y. From version 0.12, the only valid positional argument will be `data`, and passing other arguments without an explicit keyword will result in an error or misinterpretation.\n",
      "  warnings.warn(\n"
     ]
    },
    {
     "data": {
      "image/png": "[encoded data removed]",
      "text/plain": [
       "<Figure size 700x700 with 1 Axes>"
      ]
     },
     "metadata": {},
     "output_type": "display_data"
    }
   ],
   "source": [
    "%matplotlib inline\n",
    "from matplotlib import pyplot as plt\n",
    "import seaborn as sns\n",
    "\n",
    "# sns settings\n",
    "sns.set(rc={'figure.figsize':(7,7)})\n",
    "\n",
    "# colors\n",
    "palette = sns.hls_palette(5, l=.4, s=.9)\n",
    "\n",
    "# plot\n",
    "sns.scatterplot(X_embedded[:,0], X_embedded[:,1], hue=y_pred, legend='full', palette=palette)\n",
    "plt.title('t-SNE with Kmeans Labels')\n",
    "#plt.savefig(\"improved_cluster_tsne.png\")\n",
    "plt.show()"
   ]
  },
  {
   "cell_type": "code",
   "execution_count": null,
   "id": "9951da8f",
   "metadata": {},
   "outputs": [],
   "source": []
  }
 ],
 "metadata": {
  "kernelspec": {
   "display_name": "Python 3.9 (tensorflow)",
   "language": "python",
   "name": "tensorflow"
  },
  "language_info": {
   "codemirror_mode": {
    "name": "ipython",
    "version": 3
   },
   "file_extension": ".py",
   "mimetype": "text/x-python",
   "name": "python",
   "nbconvert_exporter": "python",
   "pygments_lexer": "ipython3",
   "version": "3.9.13"
  }
 },
 "nbformat": 4,
 "nbformat_minor": 5
}
